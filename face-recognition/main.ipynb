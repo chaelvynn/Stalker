{
 "cells": [
  {
   "cell_type": "code",
   "execution_count": 15,
   "metadata": {},
   "outputs": [],
   "source": [
    "import face_recognition\n",
    "import cv2\n",
    "import numpy as np\n",
    "import os"
   ]
  },
  {
   "cell_type": "code",
   "execution_count": 16,
   "metadata": {},
   "outputs": [],
   "source": [
    "# Function to load known faces\n",
    "def load_known_faces(directory):\n",
    "    known_face_encodings = []\n",
    "    known_face_names = []\n",
    "\n",
    "    for file_name in os.listdir(directory):\n",
    "        if file_name.endswith((\".jpg\", \".png\")):\n",
    "            image_path = os.path.join(directory, file_name)\n",
    "            image = face_recognition.load_image_file(image_path)\n",
    "            face_encodings = face_recognition.face_encodings(image)\n",
    "            if face_encodings:\n",
    "                known_face_encodings.append(face_encodings[0])\n",
    "                known_face_names.append(os.path.splitext(file_name)[0])\n",
    "\n",
    "    return known_face_encodings, known_face_names"
   ]
  },
  {
   "cell_type": "code",
   "execution_count": 17,
   "metadata": {},
   "outputs": [],
   "source": [
    "# Function to calculate confidence from face distance function\n",
    "def calculate_confidence(face_distance, face_match_threshold=0.7):\n",
    "    if face_distance > face_match_threshold:\n",
    "        linear_val = (1.0 - face_distance) / (0.1 - face_match_threshold)\n",
    "        return max(0.0, min(1.0, linear_val)) * 100\n",
    "    else:\n",
    "        linear_val = (1.0 - face_distance) / (face_match_threshold - 0.1)\n",
    "        return max(0.0, min(1.0, linear_val)) * 100"
   ]
  },
  {
   "cell_type": "code",
   "execution_count": 18,
   "metadata": {},
   "outputs": [],
   "source": [
    "# Function to perform face recognition on a single frame\n",
    "def recognize_faces(frame, known_face_encodings, known_face_names):\n",
    "    small_frame = cv2.resize(frame, (0, 0), fx=0.25, fy=0.25)\n",
    "\n",
    "    rgb_small_frame = small_frame[:, :, ::-1]\n",
    "    \n",
    "    # Find all the faces and face encodings in the current frame of video\n",
    "    face_locations = face_recognition.face_locations(rgb_small_frame)\n",
    "    face_encodings = face_recognition.face_encodings(rgb_small_frame, face_locations)\n",
    "\n",
    "    face_names = []\n",
    "    face_confidences = []\n",
    "    for face_encoding in face_encodings:\n",
    "        matches = face_recognition.compare_faces(known_face_encodings, face_encoding)\n",
    "        name = \"Unknown\"\n",
    "        confidence = 0.0\n",
    "\n",
    "        face_distances = face_recognition.face_distance(known_face_encodings, face_encoding)\n",
    "        best_match_index = np.argmin(face_distances)\n",
    "        if matches[best_match_index]:\n",
    "            confidence = calculate_confidence(face_distances[best_match_index])\n",
    "            if confidence > 95:\n",
    "                name = known_face_names[best_match_index]\n",
    "\n",
    "        face_names.append(name)\n",
    "        face_confidences.append(confidence)\n",
    "\n",
    "    return face_locations, face_names, face_confidences"
   ]
  },
  {
   "cell_type": "code",
   "execution_count": 19,
   "metadata": {},
   "outputs": [],
   "source": [
    "# Function to display the recognized faces on the frame\n",
    "def display_results(frame, face_locations, face_names, face_confidences):\n",
    "    for (top, right, bottom, left), name, confidence in zip(face_locations, face_names, face_confidences):\n",
    "        # Scale back up face locations to 1/4 size\n",
    "        top *= 4\n",
    "        right *= 4\n",
    "        bottom *= 4\n",
    "        left *= 4\n",
    "\n",
    "        cv2.rectangle(frame, (left, top), (right, bottom), (0, 0, 255), 2)\n",
    "\n",
    "        # Only detect face with confidence > 95%\n",
    "        if confidence > 95:\n",
    "            cv2.rectangle(frame, (left, bottom - 35), (right, bottom), (0, 0, 255), cv2.FILLED)\n",
    "            font = cv2.FONT_HERSHEY_DUPLEX\n",
    "            label = f\"{name} ({confidence:.2f}%)\"\n",
    "            cv2.putText(frame, label, (left + 6, bottom - 6), font, 1.0, (255, 255, 255), 1)\n",
    "        else:\n",
    "            cv2.rectangle(frame, (left, bottom - 35), (right, bottom), (0, 0, 255), cv2.FILLED)\n",
    "            font = cv2.FONT_HERSHEY_DUPLEX\n",
    "            label = f\"{name}\"\n",
    "            cv2.putText(frame, label, (left + 6, bottom - 6), font, 1.0, (255, 255, 255), 1)\n",
    "\n",
    "    cv2.imshow('Video', frame)"
   ]
  },
  {
   "cell_type": "code",
   "execution_count": 20,
   "metadata": {},
   "outputs": [],
   "source": [
    "def main():\n",
    "    video_capture = cv2.VideoCapture(0)\n",
    "\n",
    "    faces_dir = \"faces\"\n",
    "\n",
    "    known_face_encodings, known_face_names = load_known_faces(faces_dir)\n",
    "\n",
    "    process_this_frame = True\n",
    "\n",
    "    while True:\n",
    "        ret, frame = video_capture.read()\n",
    "\n",
    "        if process_this_frame:\n",
    "            face_locations, face_names, face_confidences = recognize_faces(frame, known_face_encodings, known_face_names)\n",
    "\n",
    "        process_this_frame = not process_this_frame\n",
    "\n",
    "        display_results(frame, face_locations, face_names, face_confidences)\n",
    "\n",
    "        # Hit 'q' to quit!\n",
    "        if cv2.waitKey(1) & 0xFF == ord('q'):\n",
    "            break\n",
    "\n",
    "    video_capture.release()\n",
    "    cv2.destroyAllWindows()"
   ]
  },
  {
   "cell_type": "code",
   "execution_count": 29,
   "metadata": {},
   "outputs": [],
   "source": [
    "if __name__ == \"__main__\":\n",
    "    main()\n"
   ]
  }
 ],
 "metadata": {
  "kernelspec": {
   "display_name": "object_det",
   "language": "python",
   "name": "python3"
  },
  "language_info": {
   "codemirror_mode": {
    "name": "ipython",
    "version": 3
   },
   "file_extension": ".py",
   "mimetype": "text/x-python",
   "name": "python",
   "nbconvert_exporter": "python",
   "pygments_lexer": "ipython3",
   "version": "3.7.16"
  }
 },
 "nbformat": 4,
 "nbformat_minor": 2
}
